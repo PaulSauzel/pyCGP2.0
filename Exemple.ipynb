{
 "cells": [
  {
   "cell_type": "code",
   "execution_count": 1,
   "id": "ed4b4029",
   "metadata": {},
   "outputs": [],
   "source": [
    "import sys\n",
    "import os\n",
    "from sklearn.datasets import make_classification\n",
    "from sklearn.model_selection import train_test_split\n",
    "from pycgp_finalclass.CGP import CGP\n",
    "from pycgp_finalclass.Config import CGPConfig\n",
    "from pycgp_finalclass.ES import ES\n",
    "from pycgp_finalclass.Evaluator import EvaluatorSin, Binary_Classifier\n",
    "from pycgp_finalclass.Node import Node\n",
    "from pycgp_finalclass.Mutation import Proba_Mutation, Golden_mutation\n",
    "from pycgp_finalclass.Function import Func\n",
    "from pycgp_finalclass.Function_library import *\n",
    "from pycgp_finalclass.Genome import CGPGenome\n"
   ]
  },
  {
   "cell_type": "code",
   "execution_count": 2,
   "id": "4d53971a",
   "metadata": {},
   "outputs": [],
   "source": [
    "def build_funcLib():\n",
    "    return [Func(f_sum, 'sum', 2, 0),\n",
    "            Func(f_aminus, 'aminus', 2, 0),\n",
    "            Func(f_mult, 'mult', 2, 0),\n",
    "            Func(f_exp, 'exp', 2, 0),\n",
    "            Func(f_abs, 'abs', 1, 0),\n",
    "            Func(f_sqrt, 'sqrt', 1, 0),\n",
    "            Func(f_sqrtxy, 'sqrtxy', 2, 0),\n",
    "            Func(f_squared, 'squared', 1, 0),\n",
    "            Func(f_pow, 'pow', 2, 0),\n",
    "            Func(f_one, 'one', 0, 0),\n",
    "            Func(f_zero, 'zero', 0, 0),\n",
    "            #Func(f_const, 'const', 0, 1),\n",
    "            Func(f_inv, 'inv', 1, 0),\n",
    "            Func(f_gt, 'gt', 2, 0),\n",
    "            #Func(f_asin, 'asin', 1, 0),\n",
    "            #Func(f_acos, 'acos', 1, 0),\n",
    "            #Func(f_atan, 'atan', 1, 0),\n",
    "            #Func(f_sin, 'sin', 1, 0),\n",
    "            Func(f_min, 'min', 2, 0),\n",
    "            Func(f_max, 'max', 2, 0),\n",
    "            Func(f_round, 'round', 1, 0),\n",
    "            Func(f_floor, 'floor', 1, 0),\n",
    "            Func(f_ceil, 'ceil', 1, 0)\n",
    "            ]\n",
    "functions = build_funcLib()"
   ]
  },
  {
   "cell_type": "code",
   "execution_count": 3,
   "id": "6a36e79f",
   "metadata": {},
   "outputs": [
    {
     "name": "stdout",
     "output_type": "stream",
     "text": [
      "evaluator_sin.inputs: [-1.         -0.97979798 -0.95959596 -0.93939394 -0.91919192 -0.8989899\n",
      " -0.87878788 -0.85858586 -0.83838384 -0.81818182 -0.7979798  -0.77777778\n",
      " -0.75757576 -0.73737374 -0.71717172 -0.6969697  -0.67676768 -0.65656566\n",
      " -0.63636364 -0.61616162 -0.5959596  -0.57575758 -0.55555556 -0.53535354\n",
      " -0.51515152 -0.49494949 -0.47474747 -0.45454545 -0.43434343 -0.41414141\n",
      " -0.39393939 -0.37373737 -0.35353535 -0.33333333 -0.31313131 -0.29292929\n",
      " -0.27272727 -0.25252525 -0.23232323 -0.21212121 -0.19191919 -0.17171717\n",
      " -0.15151515 -0.13131313 -0.11111111 -0.09090909 -0.07070707 -0.05050505\n",
      " -0.03030303 -0.01010101  0.01010101  0.03030303  0.05050505  0.07070707\n",
      "  0.09090909  0.11111111  0.13131313  0.15151515  0.17171717  0.19191919\n",
      "  0.21212121  0.23232323  0.25252525  0.27272727  0.29292929  0.31313131\n",
      "  0.33333333  0.35353535  0.37373737  0.39393939  0.41414141  0.43434343\n",
      "  0.45454545  0.47474747  0.49494949  0.51515152  0.53535354  0.55555556\n",
      "  0.57575758  0.5959596   0.61616162  0.63636364  0.65656566  0.67676768\n",
      "  0.6969697   0.71717172  0.73737374  0.75757576  0.77777778  0.7979798\n",
      "  0.81818182  0.83838384  0.85858586  0.87878788  0.8989899   0.91919192\n",
      "  0.93939394  0.95959596  0.97979798  1.        ]\n"
     ]
    }
   ],
   "source": [
    "evaluator1 = EvaluatorSin()\n",
    "print(\"evaluator_sin.inputs:\", evaluator1.inputs)"
   ]
  },
  {
   "cell_type": "code",
   "execution_count": 4,
   "id": "d57b4dcb",
   "metadata": {},
   "outputs": [
    {
     "name": "stderr",
     "output_type": "stream",
     "text": [
      "C:\\Users\\pauls\\AppData\\Local\\Temp\\ipykernel_11212\\2853248603.py:15: FutureWarning: Downcasting behavior in `replace` is deprecated and will be removed in a future version. To retain the old behavior, explicitly call `result.infer_objects(copy=False)`. To opt-in to the future behavior, set `pd.set_option('future.no_silent_downcasting', True)`\n",
      "  df['class'] = df['class'].replace({'Tumor': 1, 'Normal': 0})\n"
     ]
    }
   ],
   "source": [
    "from scipy.io import arff\n",
    "import pandas as pd\n",
    "\n",
    "# Load the .arff file\n",
    "data, meta = arff.loadarff(\"datasets/Colon_fixed.arff\")\n",
    "\n",
    "# Convert to pandas DataFrame\n",
    "df = pd.DataFrame(data)\n",
    "\n",
    "# If string columns are returned as bytes, decode them\n",
    "for col in df.select_dtypes([object]).columns:\n",
    "    df[col] = df[col].str.decode('utf-8')\n",
    "\n",
    "# Replace \"relapse\" with 1 and \"non-relapse\" with 0 in the 'Class' column\n",
    "df['class'] = df['class'].replace({'Tumor': 1, 'Normal': 0})\n",
    "\n",
    "\n",
    "from sklearn.preprocessing import MinMaxScaler\n",
    "\n",
    "# Séparation des features et de la cible\n",
    "X = df.drop('class', axis=1)  # Features\n",
    "y = df['class']               # Target\n",
    "\n",
    "# Conversion des colonnes en float\n",
    "X = X.astype(float)\n",
    "\n",
    "# Standardisation avec MinMaxScaler dans l'intervalle [-1, 1]\n",
    "scaler = MinMaxScaler(feature_range=(-1, 1))\n",
    "X = scaler.fit_transform(X)\n",
    "\n"
   ]
  },
  {
   "cell_type": "code",
   "execution_count": 5,
   "id": "628cdc3f",
   "metadata": {},
   "outputs": [],
   "source": [
    "evaluator2 = Binary_Classifier(X, y)"
   ]
  },
  {
   "cell_type": "code",
   "execution_count": 6,
   "id": "e42aa787",
   "metadata": {},
   "outputs": [
    {
     "name": "stdout",
     "output_type": "stream",
     "text": [
      "Active nodes: [<pycgp_finalclass.Node.Node object at 0x0000019F3984B5C0>, <pycgp_finalclass.Node.Node object at 0x0000019F3984B950>]\n"
     ]
    }
   ],
   "source": [
    "\n",
    "\n",
    "\n",
    "\n",
    "# Fix: Use only 1 input for sin function\n",
    "CGP_config = CGPConfig(num_inputs=1, num_nodes=30, num_outputs=1, input_node_chance=0.4, const_min=-1, const_max=1, function_set=functions)\n",
    "#For evaluatorsin num_inputs = 1\n",
    "\n",
    "mutationcgp_proba = Proba_Mutation(CGP_config, number_mutations=10, input_node_mutation_rate=0.2, output_node_mutation_rate=0.1, function_mutation_rate=0.4, input_mutation_rate=0.5, const_mutation_rate=0.1)\n",
    "mutationcgp_golden = Golden_mutation(CGP_config,input_node_mutation_rate=0.2, function_mutation_rate=0.4, input_mutation_rate=0.5, const_mutation_rate=0.1,output_node_mutation_rate=0.1)\n",
    "\n",
    "genome_cgp = CGPGenome.create_genome(CGP_config)\n",
    "active_nodes = genome_cgp.get_active_nodes()\n",
    "print(\"Active nodes:\", active_nodes)\n",
    "\n"
   ]
  },
  {
   "cell_type": "code",
   "execution_count": 9,
   "id": "50c5ff55",
   "metadata": {},
   "outputs": [
    {
     "name": "stdout",
     "output_type": "stream",
     "text": [
      "\n",
      "Best fitness achieved: 0.9932\n",
      "n1 = max(x0, x0)\n",
      "n2 = zero()\n",
      "n3 = sum(n2, n1)\n",
      "n4 = sqrt(n1)\n",
      "n5 = gt(n3, x0)\n",
      "n6 = min(n4, n4)\n",
      "n7 = aminus(n2, n3)\n",
      "n8 = pow(n3, n7)\n",
      "n9 = exp(n8, n2)\n",
      "n10 = inv(n8)\n",
      "n11 = sum(n10, n1)\n",
      "n12 = max(n11, n10)\n",
      "n13 = gt(n6, n12)\n",
      "n14 = mult(n8, x0)\n",
      "n15 = abs(n13)\n",
      "n16 = one()\n",
      "n17 = floor(n16)\n",
      "n18 = floor(n17)\n",
      "n19 = max(n5, n17)\n",
      "n20 = sum(n14, n5)\n",
      "n21 = pow(n4, n15)\n",
      "n22 = sqrtxy(n1, n20)\n",
      "n23 = mult(n5, n18)\n",
      "n24 = abs(n18)\n",
      "n25 = sum(n9, n24)\n",
      "n26 = sum(n10, n21)\n",
      "n27 = round(n18)\n",
      "n28 = abs(n26)\n",
      "n29 = sqrt(n18)\n",
      "n30 = exp(x0, n24)\n",
      "Output: n14 \n",
      "n1 = max(x0, x0)\n",
      "n2 = zero()\n",
      "n3 = sum(n2, n1)\n",
      "n4 = sqrt(n1)\n",
      "n5 = gt(n3, x0)\n",
      "n6 = min(n4, n4)\n",
      "n7 = aminus(n2, n3)\n",
      "n8 = pow(n3, n7)\n",
      "n9 = exp(n8, n2)\n",
      "n10 = inv(n8)\n",
      "n11 = sum(n10, n1)\n",
      "n12 = max(n11, n10)\n",
      "n13 = gt(n6, n12)\n",
      "n14 = mult(n8, x0)\n",
      "n15 = abs(n13)\n",
      "n16 = one()\n",
      "n17 = floor(n16)\n",
      "n18 = floor(n17)\n",
      "n19 = max(n5, n17)\n",
      "n20 = sum(n14, n5)\n",
      "n21 = pow(n4, n15)\n",
      "n22 = sqrtxy(n1, n20)\n",
      "n23 = mult(n5, n18)\n",
      "n24 = abs(n18)\n",
      "n25 = sum(n9, n24)\n",
      "n26 = sum(n10, n21)\n",
      "n27 = round(n18)\n",
      "n28 = abs(n26)\n",
      "n29 = sqrt(n18)\n",
      "n30 = exp(x0, n24)\n",
      "Output: n14 \n",
      "Fitness of best genome: 0.9931833118016199\n",
      "Re-evaluated fitness:  0.9931833118016199\n"
     ]
    }
   ],
   "source": [
    "ES_cgp = ES(evaluator1, mu=1, lam=4,genome_factory=lambda: CGPGenome.create_genome(CGP_config),mutation = mutationcgp_golden)\n",
    "best_genome = ES_cgp.evolve(n_generations=10000, early_stopping=10000)\n",
    "\n",
    "print(best_genome.to_function_string())\n",
    "\n",
    "print(\"Fitness of best genome:\", evaluator1.evaluate(best_genome, 0))\n",
    "evaluated_fitness = evaluator1.evaluate(best_genome, 0)\n",
    "print(\"Re-evaluated fitness: \", evaluated_fitness)\n",
    "\n"
   ]
  },
  {
   "cell_type": "code",
   "execution_count": 8,
   "id": "53031643",
   "metadata": {},
   "outputs": [
    {
     "name": "stdout",
     "output_type": "stream",
     "text": [
      "n1 = one()\n",
      "n2 = abs(n1)\n",
      "n3 = exp(x0, x0)\n",
      "n4 = inv(n3)\n",
      "n5 = abs(n4)\n",
      "n6 = sqrtxy(n2, n3)\n",
      "n7 = min(n6, n6)\n",
      "n8 = inv(n1)\n",
      "n9 = max(n3, n4)\n",
      "n10 = sum(n1, n6)\n",
      "n11 = sqrtxy(n10, n5)\n",
      "n12 = sqrtxy(n9, n3)\n",
      "n13 = sum(n4, n10)\n",
      "n14 = sqrtxy(n8, n9)\n",
      "n15 = min(n9, n7)\n",
      "n16 = sum(n11, n14)\n",
      "n17 = max(n8, n5)\n",
      "n18 = ceil(n14)\n",
      "n19 = sum(x0, n16)\n",
      "n20 = sqrt(n13)\n",
      "n21 = pow(n15, n7)\n",
      "n22 = floor(n12)\n",
      "n23 = max(n7, n14)\n",
      "n24 = squared(n15)\n",
      "n25 = sqrtxy(n21, n5)\n",
      "n26 = mult(x0, n10)\n",
      "n27 = gt(n13, n25)\n",
      "n28 = ceil(n11)\n",
      "n29 = abs(n7)\n",
      "n30 = ceil(n19)\n",
      "Output: n26 \n"
     ]
    },
    {
     "data": {
      "image/png": "[encoded data removed]",
      "text/plain": [
       "<Figure size 1000x500 with 1 Axes>"
      ]
     },
     "metadata": {},
     "output_type": "display_data"
    },
    {
     "name": "stdout",
     "output_type": "stream",
     "text": [
      "Fitness of best genome: 0.9930707394189586\n"
     ]
    }
   ],
   "source": [
    "import matplotlib.pyplot as plt\n",
    "\n",
    "def plot_sin_vs_prediction(evaluator, genome):\n",
    "    inputs = evaluator.inputs\n",
    "    targets = evaluator.targets\n",
    "\n",
    "    predictions = [genome.get_value([x])[0] for x in inputs]\n",
    "\n",
    "    plt.figure(figsize=(10, 5))\n",
    "    plt.plot(inputs, targets, label='True sin(x)', linewidth=2)\n",
    "    plt.plot(inputs, predictions, label='CGP Prediction', linestyle='--', linewidth=2)\n",
    "    plt.title('CGP Output vs sin(x)')\n",
    "    plt.xlabel('x')\n",
    "    plt.ylabel('y')\n",
    "    plt.legend()\n",
    "    plt.grid(True)\n",
    "    plt.show()\n",
    "print(best_genome.to_function_string())\n",
    "plot_sin_vs_prediction(evaluator1, best_genome)\n",
    "print(f\"Fitness of best genome: {evaluator1.evaluate(best_genome, generation=0)}\")\n"
   ]
  }
 ],
 "metadata": {
  "kernelspec": {
   "display_name": ".venv",
   "language": "python",
   "name": "python3"
  },
  "language_info": {
   "codemirror_mode": {
    "name": "ipython",
    "version": 3
   },
   "file_extension": ".py",
   "mimetype": "text/x-python",
   "name": "python",
   "nbconvert_exporter": "python",
   "pygments_lexer": "ipython3",
   "version": "3.12.0"
  }
 },
 "nbformat": 4,
 "nbformat_minor": 5
}
