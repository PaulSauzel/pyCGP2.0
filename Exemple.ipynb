{
 "cells": [
  {
   "cell_type": "code",
   "execution_count": 1,
   "id": "ed4b4029",
   "metadata": {},
   "outputs": [],
   "source": [
    "import sys\n",
    "import os\n",
    "from sklearn.datasets import make_classification\n",
    "from sklearn.model_selection import train_test_split\n",
    "from pycgp_finalclass.CGP import CGP\n",
    "from pycgp_finalclass.Config import CGPConfig\n",
    "from pycgp_finalclass.ES import ES\n",
    "from pycgp_finalclass.Evaluator import EvaluatorSin, Binary_Classifier\n",
    "from pycgp_finalclass.Node import Node\n",
    "from pycgp_finalclass.Mutation import Proba_Mutation, Golden_mutation\n",
    "from pycgp_finalclass.Function import Func\n",
    "from pycgp_finalclass.Function_library import *\n",
    "from pycgp_finalclass.Genome import CGPGenome\n"
   ]
  },
  {
   "cell_type": "code",
   "execution_count": null,
   "id": "4d53971a",
   "metadata": {},
   "outputs": [],
   "source": [
    "def build_funcLib(): #Define the function used\n",
    "    return [Func(f_sum, 'sum', 2, 0),\n",
    "            Func(f_aminus, 'aminus', 2, 0),\n",
    "            Func(f_mult, 'mult', 2, 0),\n",
    "            Func(f_exp, 'exp', 2, 0),\n",
    "            Func(f_abs, 'abs', 1, 0),\n",
    "            Func(f_sqrt, 'sqrt', 1, 0),\n",
    "            Func(f_sqrtxy, 'sqrtxy', 2, 0),\n",
    "            Func(f_squared, 'squared', 1, 0),\n",
    "            Func(f_pow, 'pow', 2, 0),\n",
    "            Func(f_one, 'one', 0, 0),\n",
    "            Func(f_zero, 'zero', 0, 0),\n",
    "            #Func(f_const, 'const', 0, 1),\n",
    "            Func(f_inv, 'inv', 1, 0),\n",
    "            Func(f_gt, 'gt', 2, 0),\n",
    "            #Func(f_asin, 'asin', 1, 0),\n",
    "            #Func(f_acos, 'acos', 1, 0),\n",
    "            #Func(f_atan, 'atan', 1, 0),\n",
    "            #Func(f_sin, 'sin', 1, 0),\n",
    "            Func(f_min, 'min', 2, 0),\n",
    "            Func(f_max, 'max', 2, 0),\n",
    "            Func(f_round, 'round', 1, 0),\n",
    "            Func(f_floor, 'floor', 1, 0),\n",
    "            Func(f_ceil, 'ceil', 1, 0)\n",
    "            ]\n",
    "functions = build_funcLib()"
   ]
  },
  {
   "cell_type": "code",
   "execution_count": null,
   "id": "d57b4dcb",
   "metadata": {},
   "outputs": [
    {
     "name": "stderr",
     "output_type": "stream",
     "text": [
      "C:\\Users\\pauls\\AppData\\Local\\Temp\\ipykernel_10888\\2853248603.py:15: FutureWarning: Downcasting behavior in `replace` is deprecated and will be removed in a future version. To retain the old behavior, explicitly call `result.infer_objects(copy=False)`. To opt-in to the future behavior, set `pd.set_option('future.no_silent_downcasting', True)`\n",
      "  df['class'] = df['class'].replace({'Tumor': 1, 'Normal': 0})\n"
     ]
    }
   ],
   "source": [
    "#In development\n",
    "\"\"\" from scipy.io import arff\n",
    "import pandas as pd\n",
    "\n",
    "# Load the .arff file\n",
    "data, meta = arff.loadarff(\"datasets/Colon_fixed.arff\")\n",
    "\n",
    "# Convert to pandas DataFrame\n",
    "df = pd.DataFrame(data)\n",
    "\n",
    "# If string columns are returned as bytes, decode them\n",
    "for col in df.select_dtypes([object]).columns:\n",
    "    df[col] = df[col].str.decode('utf-8')\n",
    "\n",
    "# Replace \"relapse\" with 1 and \"non-relapse\" with 0 in the 'Class' column\n",
    "df['class'] = df['class'].replace({'Tumor': 1, 'Normal': 0})\n",
    "\n",
    "\n",
    "from sklearn.preprocessing import MinMaxScaler\n",
    "\n",
    "# Séparation des features et de la cible\n",
    "X = df.drop('class', axis=1)  # Features\n",
    "y = df['class']               # Target\n",
    "\n",
    "# Conversion des colonnes en float\n",
    "X = X.astype(float)\n",
    "\n",
    "# Standardisation avec MinMaxScaler dans l'intervalle [-1, 1]\n",
    "scaler = MinMaxScaler(feature_range=(-1, 1))\n",
    "X = scaler.fit_transform(X)\n",
    "\n",
    "evaluator2 = Binary_Classifier(X, y) \"\"\""
   ]
  },
  {
   "cell_type": "code",
   "execution_count": null,
   "id": "e42aa787",
   "metadata": {},
   "outputs": [
    {
     "name": "stdout",
     "output_type": "stream",
     "text": [
      "Active nodes: [<pycgp_finalclass.Node.Node object at 0x000001D61500B860>, <pycgp_finalclass.Node.Node object at 0x000001D616063B90>, <pycgp_finalclass.Node.Node object at 0x000001D616063DD0>]\n"
     ]
    }
   ],
   "source": [
    "\n",
    "\n",
    "\n",
    "\n",
    "#Initialise config + Evaluator + mutation \n",
    "CGP_config = CGPConfig(num_inputs=1, num_nodes=30, num_outputs=1, input_node_chance=0.4, const_min=-1, const_max=1, function_set=functions)\n",
    "#For evaluatorsin num_inputs = 1\n",
    "\n",
    "#mutationcgp_proba = Proba_Mutation(CGP_config, number_mutations=10, input_node_mutation_rate=0.2, output_node_mutation_rate=0.1, function_mutation_rate=0.4, input_mutation_rate=0.5, const_mutation_rate=0.1)\n",
    "mutationcgp_golden = Golden_mutation(CGP_config,input_node_mutation_rate=0.2, function_mutation_rate=0.4, input_mutation_rate=0.5, const_mutation_rate=0.1,output_node_mutation_rate=0.1)\n",
    "\n",
    "evaluator1 = EvaluatorSin()\n",
    "\n",
    "#Test purpose\n",
    "genome_cgp = CGPGenome.create_genome(CGP_config)\n",
    "active_nodes = genome_cgp.get_active_nodes()\n",
    "print(\"Active nodes:\", active_nodes)\n",
    "\n"
   ]
  },
  {
   "cell_type": "code",
   "execution_count": null,
   "id": "50c5ff55",
   "metadata": {},
   "outputs": [
    {
     "name": "stdout",
     "output_type": "stream",
     "text": [
      "Early stopping at generation 1043 (no improvement for 1000 generations).\n",
      "\n",
      "Best fitness achieved: 0.9893\n",
      "n1 = squared(x0)\n",
      "n2 = pow(n1, n1)\n",
      "n3 = sqrtxy(n2, n1)\n",
      "n4 = min(n3, n3)\n",
      "n5 = sqrtxy(n2, x0)\n",
      "n6 = sqrtxy(n4, n4)\n",
      "n7 = aminus(n6, n3)\n",
      "n8 = zero()\n",
      "n9 = pow(n3, n5)\n",
      "n10 = round(n3)\n",
      "n11 = exp(n7, n6)\n",
      "n12 = min(n8, x0)\n",
      "n13 = exp(n11, x0)\n",
      "n14 = one()\n",
      "n15 = gt(n13, n9)\n",
      "n16 = inv(n8)\n",
      "n17 = squared(n9)\n",
      "n18 = floor(n13)\n",
      "n19 = gt(n15, n9)\n",
      "n20 = round(n7)\n",
      "n21 = mult(n6, n9)\n",
      "n22 = min(x0, n2)\n",
      "n23 = exp(x0, n19)\n",
      "n24 = min(n23, n23)\n",
      "n25 = min(n14, n9)\n",
      "n26 = gt(n17, x0)\n",
      "n27 = ceil(n20)\n",
      "n28 = aminus(n2, n26)\n",
      "n29 = exp(n8, n7)\n",
      "n30 = sqrt(n6)\n",
      "Output: n22\n",
      "\n",
      "Unrolled output expression:\n",
      "min(x0, pow(squared(x0), squared(x0)))\n",
      "n1 = squared(x0)\n",
      "n2 = pow(n1, n1)\n",
      "n3 = sqrtxy(n2, n1)\n",
      "n4 = min(n3, n3)\n",
      "n5 = sqrtxy(n2, x0)\n",
      "n6 = sqrtxy(n4, n4)\n",
      "n7 = aminus(n6, n3)\n",
      "n8 = zero()\n",
      "n9 = pow(n3, n5)\n",
      "n10 = round(n3)\n",
      "n11 = exp(n7, n6)\n",
      "n12 = min(n8, x0)\n",
      "n13 = exp(n11, x0)\n",
      "n14 = one()\n",
      "n15 = gt(n13, n9)\n",
      "n16 = inv(n8)\n",
      "n17 = squared(n9)\n",
      "n18 = floor(n13)\n",
      "n19 = gt(n15, n9)\n",
      "n20 = round(n7)\n",
      "n21 = mult(n6, n9)\n",
      "n22 = min(x0, n2)\n",
      "n23 = exp(x0, n19)\n",
      "n24 = min(n23, n23)\n",
      "n25 = min(n14, n9)\n",
      "n26 = gt(n17, x0)\n",
      "n27 = ceil(n20)\n",
      "n28 = aminus(n2, n26)\n",
      "n29 = exp(n8, n7)\n",
      "n30 = sqrt(n6)\n",
      "Output: n22\n",
      "\n",
      "Unrolled output expression:\n",
      "min(x0, pow(squared(x0), squared(x0)))\n",
      "Fitness of best genome: 0.9892653590575242\n",
      "Re-evaluated fitness:  0.9892653590575242\n"
     ]
    }
   ],
   "source": [
    "#Initialise the ES and run the evolution\n",
    "ES_cgp = ES(evaluator1, mu=1, lam=4,genome_factory=lambda: CGPGenome.create_genome(CGP_config),mutation = mutationcgp_golden)\n",
    "best_genome = ES_cgp.evolve(n_generations=10000, early_stopping=1000)\n",
    "\n",
    "print(best_genome.to_function_string())\n",
    "\n"
   ]
  },
  {
   "cell_type": "code",
   "execution_count": null,
   "id": "53031643",
   "metadata": {},
   "outputs": [
    {
     "name": "stdout",
     "output_type": "stream",
     "text": [
      "n1 = squared(x0)\n",
      "n2 = pow(n1, n1)\n",
      "n3 = sqrtxy(n2, n1)\n",
      "n4 = min(n3, n3)\n",
      "n5 = sqrtxy(n2, x0)\n",
      "n6 = sqrtxy(n4, n4)\n",
      "n7 = aminus(n6, n3)\n",
      "n8 = zero()\n",
      "n9 = pow(n3, n5)\n",
      "n10 = round(n3)\n",
      "n11 = exp(n7, n6)\n",
      "n12 = min(n8, x0)\n",
      "n13 = exp(n11, x0)\n",
      "n14 = one()\n",
      "n15 = gt(n13, n9)\n",
      "n16 = inv(n8)\n",
      "n17 = squared(n9)\n",
      "n18 = floor(n13)\n",
      "n19 = gt(n15, n9)\n",
      "n20 = round(n7)\n",
      "n21 = mult(n6, n9)\n",
      "n22 = min(x0, n2)\n",
      "n23 = exp(x0, n19)\n",
      "n24 = min(n23, n23)\n",
      "n25 = min(n14, n9)\n",
      "n26 = gt(n17, x0)\n",
      "n27 = ceil(n20)\n",
      "n28 = aminus(n2, n26)\n",
      "n29 = exp(n8, n7)\n",
      "n30 = sqrt(n6)\n",
      "Output: n22\n",
      "\n",
      "Unrolled output expression:\n",
      "min(x0, pow(squared(x0), squared(x0)))\n"
     ]
    },
    {
     "data": {
      "image/png": "[encoded data removed]",
      "text/plain": [
       "<Figure size 1000x500 with 1 Axes>"
      ]
     },
     "metadata": {},
     "output_type": "display_data"
    },
    {
     "name": "stdout",
     "output_type": "stream",
     "text": [
      "Fitness of best genome: 0.9892653590575242\n"
     ]
    }
   ],
   "source": [
    "#See if the output fit the sin function\n",
    "\n",
    "import matplotlib.pyplot as plt\n",
    "\n",
    "def plot_sin_vs_prediction(evaluator, genome):\n",
    "    inputs = evaluator.inputs\n",
    "    targets = evaluator.targets\n",
    "\n",
    "    predictions = [genome.get_value([x])[0] for x in inputs]\n",
    "\n",
    "    plt.figure(figsize=(10, 5))\n",
    "    plt.plot(inputs, targets, label='True sin(x)', linewidth=2)\n",
    "    plt.plot(inputs, predictions, label='CGP Prediction', linestyle='--', linewidth=2)\n",
    "    plt.title('CGP Output vs sin(x)')\n",
    "    plt.xlabel('x')\n",
    "    plt.ylabel('y')\n",
    "    plt.legend()\n",
    "    plt.grid(True)\n",
    "    plt.show()\n",
    "print(best_genome.to_function_string())\n",
    "plot_sin_vs_prediction(evaluator1, best_genome)\n",
    "print(f\"Fitness of best genome: {evaluator1.evaluate(best_genome, generation=0)}\")\n"
   ]
  }
 ],
 "metadata": {
  "kernelspec": {
   "display_name": ".venv",
   "language": "python",
   "name": "python3"
  },
  "language_info": {
   "codemirror_mode": {
    "name": "ipython",
    "version": 3
   },
   "file_extension": ".py",
   "mimetype": "text/x-python",
   "name": "python",
   "nbconvert_exporter": "python",
   "pygments_lexer": "ipython3",
   "version": "3.12.0"
  }
 },
 "nbformat": 4,
 "nbformat_minor": 5
}
